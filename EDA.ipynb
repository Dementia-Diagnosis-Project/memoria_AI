{
 "cells": [
  {
   "cell_type": "code",
   "execution_count": 1,
   "metadata": {},
   "outputs": [],
   "source": [
    "#!pip install openpyxl --upgrade\n",
    "#!pip install seaborn"
   ]
  },
  {
   "cell_type": "code",
   "execution_count": 2,
   "metadata": {},
   "outputs": [],
   "source": [
    "import pandas as pd\n",
    "import numpy as np\n",
    "import matplotlib.pyplot as plt\n",
    "import seaborn as sns\n",
    "import warnings\n",
    "\n",
    "warnings.filterwarnings('ignore')"
   ]
  },
  {
   "cell_type": "code",
   "execution_count": 3,
   "metadata": {},
   "outputs": [
    {
     "data": {
      "text/html": [
       "<div>\n",
       "<style scoped>\n",
       "    .dataframe tbody tr th:only-of-type {\n",
       "        vertical-align: middle;\n",
       "    }\n",
       "\n",
       "    .dataframe tbody tr th {\n",
       "        vertical-align: top;\n",
       "    }\n",
       "\n",
       "    .dataframe thead th {\n",
       "        text-align: right;\n",
       "    }\n",
       "</style>\n",
       "<table border=\"1\" class=\"dataframe\">\n",
       "  <thead>\n",
       "    <tr style=\"text-align: right;\">\n",
       "      <th></th>\n",
       "      <th>MRI_number</th>\n",
       "      <th>OASISID</th>\n",
       "      <th>OASIS_session_label</th>\n",
       "      <th>age at visit</th>\n",
       "      <th>gender</th>\n",
       "      <th>진단</th>\n",
       "      <th>정상인지 여부</th>\n",
       "      <th>인지감소여부</th>\n",
       "      <th>MCIAMEM</th>\n",
       "      <th>MCIAPLUS</th>\n",
       "      <th>...</th>\n",
       "      <th>sleepap</th>\n",
       "      <th>remdis</th>\n",
       "      <th>hyposom</th>\n",
       "      <th>sleepoth</th>\n",
       "      <th>angiocp</th>\n",
       "      <th>angiopci</th>\n",
       "      <th>pacemake</th>\n",
       "      <th>hvalve</th>\n",
       "      <th>antienc</th>\n",
       "      <th>othcond</th>\n",
       "    </tr>\n",
       "  </thead>\n",
       "  <tbody>\n",
       "    <tr>\n",
       "      <th>0</th>\n",
       "      <td>OAS30001_MR_d0129</td>\n",
       "      <td>OAS30001</td>\n",
       "      <td>OAS30001_UDSd1_d0000</td>\n",
       "      <td>65.19</td>\n",
       "      <td>2</td>\n",
       "      <td>정상</td>\n",
       "      <td>1</td>\n",
       "      <td>NaN</td>\n",
       "      <td>NaN</td>\n",
       "      <td>NaN</td>\n",
       "      <td>...</td>\n",
       "      <td>NaN</td>\n",
       "      <td>NaN</td>\n",
       "      <td>NaN</td>\n",
       "      <td>NaN</td>\n",
       "      <td>NaN</td>\n",
       "      <td>NaN</td>\n",
       "      <td>NaN</td>\n",
       "      <td>NaN</td>\n",
       "      <td>NaN</td>\n",
       "      <td>NaN</td>\n",
       "    </tr>\n",
       "    <tr>\n",
       "      <th>1</th>\n",
       "      <td>OAS30001_MR_d0757</td>\n",
       "      <td>OAS30001</td>\n",
       "      <td>OAS30001_UDSd1_d0722</td>\n",
       "      <td>67.17</td>\n",
       "      <td>2</td>\n",
       "      <td>정상</td>\n",
       "      <td>1</td>\n",
       "      <td>NaN</td>\n",
       "      <td>NaN</td>\n",
       "      <td>NaN</td>\n",
       "      <td>...</td>\n",
       "      <td>NaN</td>\n",
       "      <td>NaN</td>\n",
       "      <td>NaN</td>\n",
       "      <td>NaN</td>\n",
       "      <td>NaN</td>\n",
       "      <td>NaN</td>\n",
       "      <td>NaN</td>\n",
       "      <td>NaN</td>\n",
       "      <td>NaN</td>\n",
       "      <td>NaN</td>\n",
       "    </tr>\n",
       "    <tr>\n",
       "      <th>2</th>\n",
       "      <td>OAS30001_MR_d2430</td>\n",
       "      <td>OAS30001</td>\n",
       "      <td>OAS30001_UDSd1_d2181</td>\n",
       "      <td>71.17</td>\n",
       "      <td>2</td>\n",
       "      <td>정상</td>\n",
       "      <td>1</td>\n",
       "      <td>NaN</td>\n",
       "      <td>NaN</td>\n",
       "      <td>NaN</td>\n",
       "      <td>...</td>\n",
       "      <td>NaN</td>\n",
       "      <td>NaN</td>\n",
       "      <td>NaN</td>\n",
       "      <td>NaN</td>\n",
       "      <td>NaN</td>\n",
       "      <td>NaN</td>\n",
       "      <td>NaN</td>\n",
       "      <td>NaN</td>\n",
       "      <td>NaN</td>\n",
       "      <td>NaN</td>\n",
       "    </tr>\n",
       "    <tr>\n",
       "      <th>3</th>\n",
       "      <td>OAS30001_MR_d3132</td>\n",
       "      <td>OAS30001</td>\n",
       "      <td>OAS30001_UDSd1_d3025</td>\n",
       "      <td>73.48</td>\n",
       "      <td>2</td>\n",
       "      <td>정상</td>\n",
       "      <td>1</td>\n",
       "      <td>NaN</td>\n",
       "      <td>NaN</td>\n",
       "      <td>NaN</td>\n",
       "      <td>...</td>\n",
       "      <td>NaN</td>\n",
       "      <td>NaN</td>\n",
       "      <td>NaN</td>\n",
       "      <td>NaN</td>\n",
       "      <td>NaN</td>\n",
       "      <td>NaN</td>\n",
       "      <td>NaN</td>\n",
       "      <td>NaN</td>\n",
       "      <td>NaN</td>\n",
       "      <td>NaN</td>\n",
       "    </tr>\n",
       "    <tr>\n",
       "      <th>4</th>\n",
       "      <td>OAS30001_MR_d3746</td>\n",
       "      <td>OAS30001</td>\n",
       "      <td>OAS30001_UDSd1_d3675</td>\n",
       "      <td>75.26</td>\n",
       "      <td>2</td>\n",
       "      <td>정상</td>\n",
       "      <td>1</td>\n",
       "      <td>NaN</td>\n",
       "      <td>NaN</td>\n",
       "      <td>NaN</td>\n",
       "      <td>...</td>\n",
       "      <td>1.0</td>\n",
       "      <td>0.0</td>\n",
       "      <td>0.0</td>\n",
       "      <td>0.0</td>\n",
       "      <td>0.0</td>\n",
       "      <td>0.0</td>\n",
       "      <td>0.0</td>\n",
       "      <td>0.0</td>\n",
       "      <td>0.0</td>\n",
       "      <td>1.0</td>\n",
       "    </tr>\n",
       "  </tbody>\n",
       "</table>\n",
       "<p>5 rows × 172 columns</p>\n",
       "</div>"
      ],
      "text/plain": [
       "          MRI_number   OASISID   OASIS_session_label  age at visit  gender  \\\n",
       "0  OAS30001_MR_d0129  OAS30001  OAS30001_UDSd1_d0000         65.19       2   \n",
       "1  OAS30001_MR_d0757  OAS30001  OAS30001_UDSd1_d0722         67.17       2   \n",
       "2  OAS30001_MR_d2430  OAS30001  OAS30001_UDSd1_d2181         71.17       2   \n",
       "3  OAS30001_MR_d3132  OAS30001  OAS30001_UDSd1_d3025         73.48       2   \n",
       "4  OAS30001_MR_d3746  OAS30001  OAS30001_UDSd1_d3675         75.26       2   \n",
       "\n",
       "   진단  정상인지 여부  인지감소여부  MCIAMEM  MCIAPLUS  ...  sleepap  remdis  hyposom  \\\n",
       "0  정상        1     NaN      NaN       NaN  ...      NaN     NaN      NaN   \n",
       "1  정상        1     NaN      NaN       NaN  ...      NaN     NaN      NaN   \n",
       "2  정상        1     NaN      NaN       NaN  ...      NaN     NaN      NaN   \n",
       "3  정상        1     NaN      NaN       NaN  ...      NaN     NaN      NaN   \n",
       "4  정상        1     NaN      NaN       NaN  ...      1.0     0.0      0.0   \n",
       "\n",
       "   sleepoth  angiocp  angiopci  pacemake  hvalve  antienc  othcond  \n",
       "0       NaN      NaN       NaN       NaN     NaN      NaN      NaN  \n",
       "1       NaN      NaN       NaN       NaN     NaN      NaN      NaN  \n",
       "2       NaN      NaN       NaN       NaN     NaN      NaN      NaN  \n",
       "3       NaN      NaN       NaN       NaN     NaN      NaN      NaN  \n",
       "4       0.0      0.0       0.0       0.0     0.0      0.0      1.0  \n",
       "\n",
       "[5 rows x 172 columns]"
      ]
     },
     "execution_count": 3,
     "metadata": {},
     "output_type": "execute_result"
    }
   ],
   "source": [
    "data = pd.read_excel('data/MRIPET_for_EDA.xlsx')\n",
    "\n",
    "data.head(5)"
   ]
  },
  {
   "cell_type": "markdown",
   "metadata": {},
   "source": [
    "# 1. 일반적인 진료 받는 기간 간격 확인 "
   ]
  },
  {
   "cell_type": "code",
   "execution_count": 4,
   "metadata": {},
   "outputs": [
    {
     "data": {
      "text/plain": [
       "array([65.19, 67.17, 71.17, 73.48, 75.26, 77.11])"
      ]
     },
     "execution_count": 4,
     "metadata": {},
     "output_type": "execute_result"
    }
   ],
   "source": [
    "# 한 환자의 방문 나이 확인 (for 나이 차이로 방문 간격 확인 하기 위해) \n",
    "data[data['OASISID']=='OAS30001']['age at visit'].unique() # unique() 해줘야하는 이유 : 하루에 여러장 찍었을 수 있음"
   ]
  },
  {
   "cell_type": "code",
   "execution_count": 5,
   "metadata": {},
   "outputs": [
    {
     "data": {
      "text/plain": [
       "array(['OAS30001', 'OAS30002', 'OAS30003', ..., 'OAS31472', 'OAS31473',\n",
       "       'OAS31474'], dtype=object)"
      ]
     },
     "execution_count": 5,
     "metadata": {},
     "output_type": "execute_result"
    }
   ],
   "source": [
    "# 고유 환자 ID \n",
    "data['OASISID'].unique()"
   ]
  },
  {
   "cell_type": "code",
   "execution_count": 6,
   "metadata": {},
   "outputs": [
    {
     "data": {
      "text/plain": [
       "1078"
      ]
     },
     "execution_count": 6,
     "metadata": {},
     "output_type": "execute_result"
    }
   ],
   "source": [
    "# 환자수 확인  \n",
    "len(data['OASISID'].unique())"
   ]
  },
  {
   "cell_type": "code",
   "execution_count": 7,
   "metadata": {},
   "outputs": [
    {
     "data": {
      "text/html": [
       "<div>\n",
       "<style scoped>\n",
       "    .dataframe tbody tr th:only-of-type {\n",
       "        vertical-align: middle;\n",
       "    }\n",
       "\n",
       "    .dataframe tbody tr th {\n",
       "        vertical-align: top;\n",
       "    }\n",
       "\n",
       "    .dataframe thead th {\n",
       "        text-align: right;\n",
       "    }\n",
       "</style>\n",
       "<table border=\"1\" class=\"dataframe\">\n",
       "  <thead>\n",
       "    <tr style=\"text-align: right;\">\n",
       "      <th></th>\n",
       "      <th>OASISID</th>\n",
       "      <th>방문간격</th>\n",
       "      <th>방문기간평균</th>\n",
       "    </tr>\n",
       "  </thead>\n",
       "  <tbody>\n",
       "    <tr>\n",
       "      <th>0</th>\n",
       "      <td>OAS30001</td>\n",
       "      <td>[1.980000000000004, 4.0, 2.3100000000000023, 1...</td>\n",
       "      <td>2.38</td>\n",
       "    </tr>\n",
       "    <tr>\n",
       "      <th>1</th>\n",
       "      <td>OAS30002</td>\n",
       "      <td>[2.0600000000000023, 3.009999999999991, 1.1300...</td>\n",
       "      <td>2.07</td>\n",
       "    </tr>\n",
       "    <tr>\n",
       "      <th>2</th>\n",
       "      <td>OAS30003</td>\n",
       "      <td>[4.239999999999995, 1.7999999999999972, 4.4200...</td>\n",
       "      <td>3.49</td>\n",
       "    </tr>\n",
       "    <tr>\n",
       "      <th>3</th>\n",
       "      <td>OAS30004</td>\n",
       "      <td>[3.0900000000000034, 3.3699999999999974, 3.400...</td>\n",
       "      <td>3.29</td>\n",
       "    </tr>\n",
       "    <tr>\n",
       "      <th>4</th>\n",
       "      <td>OAS30005</td>\n",
       "      <td>[3.269999999999996, 3.0700000000000003, 2.7700...</td>\n",
       "      <td>3.02</td>\n",
       "    </tr>\n",
       "    <tr>\n",
       "      <th>5</th>\n",
       "      <td>OAS30006</td>\n",
       "      <td>[4.020000000000003, 2.1899999999999977, 5.7099...</td>\n",
       "      <td>3.97</td>\n",
       "    </tr>\n",
       "    <tr>\n",
       "      <th>6</th>\n",
       "      <td>OAS30007</td>\n",
       "      <td>[5.299999999999997]</td>\n",
       "      <td>5.30</td>\n",
       "    </tr>\n",
       "    <tr>\n",
       "      <th>7</th>\n",
       "      <td>OAS30008</td>\n",
       "      <td>[2.740000000000002, 3.0]</td>\n",
       "      <td>2.87</td>\n",
       "    </tr>\n",
       "    <tr>\n",
       "      <th>8</th>\n",
       "      <td>OAS30010</td>\n",
       "      <td>[3.260000000000005]</td>\n",
       "      <td>3.26</td>\n",
       "    </tr>\n",
       "    <tr>\n",
       "      <th>9</th>\n",
       "      <td>OAS30014</td>\n",
       "      <td>[2.0]</td>\n",
       "      <td>2.00</td>\n",
       "    </tr>\n",
       "  </tbody>\n",
       "</table>\n",
       "</div>"
      ],
      "text/plain": [
       "    OASISID                                               방문간격  방문기간평균\n",
       "0  OAS30001  [1.980000000000004, 4.0, 2.3100000000000023, 1...    2.38\n",
       "1  OAS30002  [2.0600000000000023, 3.009999999999991, 1.1300...    2.07\n",
       "2  OAS30003  [4.239999999999995, 1.7999999999999972, 4.4200...    3.49\n",
       "3  OAS30004  [3.0900000000000034, 3.3699999999999974, 3.400...    3.29\n",
       "4  OAS30005  [3.269999999999996, 3.0700000000000003, 2.7700...    3.02\n",
       "5  OAS30006  [4.020000000000003, 2.1899999999999977, 5.7099...    3.97\n",
       "6  OAS30007                                [5.299999999999997]    5.30\n",
       "7  OAS30008                           [2.740000000000002, 3.0]    2.87\n",
       "8  OAS30010                                [3.260000000000005]    3.26\n",
       "9  OAS30014                                              [2.0]    2.00"
      ]
     },
     "execution_count": 7,
     "metadata": {},
     "output_type": "execute_result"
    }
   ],
   "source": [
    "oasis_id = []\n",
    "visitgap = []\n",
    "visitgap_mean_p0 = []\n",
    "visitgap_mean_p2 = []\n",
    "\n",
    "for id in data['OASISID'].unique():\n",
    "    agelist = data[data['OASISID']==id]['age at visit'].unique().tolist()\n",
    "    if len(agelist)>1: # 한 번만 방문한 사람은 계산할 필요 X \n",
    "        gap = [ agelist[i] - agelist[i-1] for i in range(1,len(agelist)) ] \n",
    "        oasis_id.append(id)\n",
    "        visitgap.append(gap)\n",
    "        visitgap_mean_p0.append(np.around(np.mean(gap))) # 그래프 시각화를 위해, 일의 자리까지 반올림 \n",
    "        visitgap_mean_p2.append(np.around(np.mean(gap),2)) # 구체적인 수치값을 확인 하기위해, 소수점 2번째 자리까지 반올림 \n",
    "    \n",
    "values = {\"OASISID\":oasis_id, \"방문간격\":visitgap, \"방문기간평균\":visitgap_mean_p2}  \n",
    "df = pd.DataFrame(values)\n",
    "df.head(10)      "
   ]
  },
  {
   "cell_type": "code",
   "execution_count": 8,
   "metadata": {},
   "outputs": [
    {
     "data": {
      "text/plain": [
       "count    431.000000\n",
       "mean       3.387030\n",
       "std        1.544296\n",
       "min        0.970000\n",
       "25%        2.520000\n",
       "50%        3.070000\n",
       "75%        3.810000\n",
       "max       12.630000\n",
       "Name: 방문기간평균, dtype: float64"
      ]
     },
     "execution_count": 8,
     "metadata": {},
     "output_type": "execute_result"
    }
   ],
   "source": [
    "# 방문기간평균 값의 범위(최소,평균,최대) 확인 \n",
    "df['방문기간평균'].describe()"
   ]
  },
  {
   "cell_type": "markdown",
   "metadata": {},
   "source": [
    "결과를 보면 최소 11개월 최대 13년 정도의 간격을 두고 검사를 진행하며,      \n",
    "       \n",
    "절반(25~75%)의 인원은 2년~4년 사이 간격으로 가지고,     \n",
    "       \n",
    "평균적으로 4년의 간격을 가진다.(평균이 높은 이유는 최대값의 크기가 크기 때문으로 보임)"
   ]
  },
  {
   "cell_type": "code",
   "execution_count": 9,
   "metadata": {},
   "outputs": [],
   "source": [
    "values = {\"OASISID\":oasis_id, \"방문간격\":visitgap, \"방문기간평균\":visitgap_mean_p0}  \n",
    "df = pd.DataFrame(values)"
   ]
  },
  {
   "cell_type": "code",
   "execution_count": 10,
   "metadata": {},
   "outputs": [
    {
     "data": {
      "image/png": "[encoded data removed]",
      "text/plain": [
       "<Figure size 511.111x500 with 1 Axes>"
      ]
     },
     "metadata": {},
     "output_type": "display_data"
    }
   ],
   "source": [
    "sns.catplot(x='방문기간평균', data=df, kind=\"count\")\n",
    "plt.show()"
   ]
  },
  {
   "cell_type": "markdown",
   "metadata": {},
   "source": [
    "대부분은 3년을 간격으로 방문하며, 2~4년 사이 방문이 대부분임을 알 수 있다."
   ]
  }
 ],
 "metadata": {
  "interpreter": {
   "hash": "d70dc010d58f8e16f84cfefada5d11f16d485d3f17810ef751c3ea5808ebf750"
  },
  "kernelspec": {
   "display_name": "Python 3.9.16 64-bit ('3.9.16')",
   "language": "python",
   "name": "python3"
  },
  "language_info": {
   "codemirror_mode": {
    "name": "ipython",
    "version": 3
   },
   "file_extension": ".py",
   "mimetype": "text/x-python",
   "name": "python",
   "nbconvert_exporter": "python",
   "pygments_lexer": "ipython3",
   "version": "3.9.16"
  },
  "orig_nbformat": 4
 },
 "nbformat": 4,
 "nbformat_minor": 2
}
